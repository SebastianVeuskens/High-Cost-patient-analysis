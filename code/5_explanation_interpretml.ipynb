{
 "cells": [
  {
   "cell_type": "markdown",
   "metadata": {},
   "source": [
    "### Import necessary libraries"
   ]
  },
  {
   "cell_type": "code",
   "execution_count": 1,
   "metadata": {},
   "outputs": [],
   "source": [
    "import pandas as pd\n",
    "import numpy as np\n",
    "from sklearn.ensemble import RandomForestClassifier\n",
    "import matplotlib.pyplot as plt\n",
    "import os\n",
    "import pickle "
   ]
  },
  {
   "cell_type": "code",
   "execution_count": 2,
   "metadata": {},
   "outputs": [
    {
     "name": "stderr",
     "output_type": "stream",
     "text": [
      "c:\\Users\\Sebastian's work\\OneDrive - OptiMedis AG\\Dokumente\\Coding\\High-Cost-patient-analysis\\.venv\\Lib\\site-packages\\tqdm\\auto.py:21: TqdmWarning: IProgress not found. Please update jupyter and ipywidgets. See https://ipywidgets.readthedocs.io/en/stable/user_install.html\n",
      "  from .autonotebook import tqdm as notebook_tqdm\n"
     ]
    }
   ],
   "source": [
    "import interpret\n",
    "import shap\n",
    "from interpret.blackbox import ShapKernel, LimeTabular"
   ]
  },
  {
   "cell_type": "code",
   "execution_count": 41,
   "metadata": {},
   "outputs": [],
   "source": [
    "path_list = ('results/', 'complete/', 'unbalanced/', 'model_explanation/', 'interpretML')\n",
    "cur_path = ''\n",
    "for rep in path_list:\n",
    "    cur_path += rep\n",
    "    if not os.path.exists(cur_path):\n",
    "        os.makedirs(cur_path)\n",
    "result_path = ''.join(path_list)"
   ]
  },
  {
   "cell_type": "markdown",
   "metadata": {},
   "source": [
    "# CREATE EXPLANATIONS FOR RANDOM FOREST \n",
    "**File**: 5_explanation_interpretml.ipynb\n",
    "\n",
    "**Author**: Sebastian Benno Veuskens \n",
    "\n",
    "**Date**: 2024-07-28\n",
    "\n",
    "**Data**: train and test (same as evaluated model)  \n",
    "\n",
    "\n",
    "## Modify"
   ]
  },
  {
   "cell_type": "markdown",
   "metadata": {},
   "source": [
    "**Working directory**"
   ]
  },
  {
   "cell_type": "code",
   "execution_count": 3,
   "metadata": {},
   "outputs": [],
   "source": [
    "os.chdir(\"C:/Users/Sebastian's work/OneDrive - OptiMedis AG/Dokumente/Coding/High-Cost-patient-analysis\")"
   ]
  },
  {
   "cell_type": "markdown",
   "metadata": {},
   "source": [
    "**Parameters & Settings**"
   ]
  },
  {
   "cell_type": "code",
   "execution_count": 14,
   "metadata": {},
   "outputs": [],
   "source": [
    "target = 'HC_Patient_Next_Year'\n",
    "excluded = 'Total_Costs_Next_Year'\n",
    "prediction_outcome = 1  # Indicate which prediction outcome the sample should have \n",
    "true_outcome = 1 # Indicate which true HCP status the patient in the sample should have"
   ]
  },
  {
   "cell_type": "markdown",
   "metadata": {},
   "source": [
    "### Load data"
   ]
  },
  {
   "cell_type": "code",
   "execution_count": 5,
   "metadata": {},
   "outputs": [],
   "source": [
    "train = pd.read_csv('data/complete/unbalanced/train_validate.csv', sep=',', header=0)\n",
    "test = pd.read_csv('data/complete/unbalanced/test.csv', sep=',', header=0)"
   ]
  },
  {
   "cell_type": "markdown",
   "metadata": {},
   "source": [
    "### Transform categorical values"
   ]
  },
  {
   "cell_type": "code",
   "execution_count": 6,
   "metadata": {},
   "outputs": [],
   "source": [
    "# TODO: Check if I need this or whether I need to make the same transformations as before\n",
    "# train['Sex'] = pd.factorize(train['Sex'])[0]\n",
    "# test['Sex'] = pd.factorize(test['Sex'])[0]"
   ]
  },
  {
   "cell_type": "code",
   "execution_count": 7,
   "metadata": {},
   "outputs": [],
   "source": [
    "from sklearn.preprocessing import OrdinalEncoder\n",
    "all_columns = train.columns\n",
    "\n",
    "# If a column has more than two values, it is not categorical\n",
    "categorical_columns = all_columns[train.nunique(axis=0) == 2]\n",
    "numerical_columns = [all_columns.difference(categorical_columns)]\n",
    "\n",
    "categorical_columns_indices = [test.columns.tolist().index(cn) for cn in categorical_columns]\n",
    "oe = OrdinalEncoder().fit(train[categorical_columns])\n",
    "categorical_name_mapping = {i: list(v) if i < 11 else ['diagnosis absent', 'diagnosis present']\n",
    "                            for (i, v) in zip(categorical_columns_indices, oe.categories_)}\n",
    "\n",
    "\n",
    "train.loc[:, categorical_columns] = oe.transform(train[categorical_columns])\n",
    "test.loc[:, categorical_columns] = oe.transform(test[categorical_columns])"
   ]
  },
  {
   "cell_type": "markdown",
   "metadata": {},
   "source": [
    "### Split predictors & outcome labels "
   ]
  },
  {
   "cell_type": "code",
   "execution_count": 8,
   "metadata": {},
   "outputs": [],
   "source": [
    "predictors = [var for var in train.columns if var not in (target, excluded)]\n",
    "X_train, y_train = train[predictors], train[target]\n",
    "X_test, y_test = test[predictors], test[target]"
   ]
  },
  {
   "cell_type": "code",
   "execution_count": 9,
   "metadata": {},
   "outputs": [
    {
     "data": {
      "text/html": [
       "<div>\n",
       "<style scoped>\n",
       "    .dataframe tbody tr th:only-of-type {\n",
       "        vertical-align: middle;\n",
       "    }\n",
       "\n",
       "    .dataframe tbody tr th {\n",
       "        vertical-align: top;\n",
       "    }\n",
       "\n",
       "    .dataframe thead th {\n",
       "        text-align: right;\n",
       "    }\n",
       "</style>\n",
       "<table border=\"1\" class=\"dataframe\">\n",
       "  <thead>\n",
       "    <tr style=\"text-align: right;\">\n",
       "      <th></th>\n",
       "      <th>HC_Patient_Next_Year</th>\n",
       "      <th>Total_Costs_Next_Year</th>\n",
       "      <th>HC_Patient</th>\n",
       "      <th>Sex</th>\n",
       "      <th>Age</th>\n",
       "      <th>Need_of_Care_Duration</th>\n",
       "      <th>DMP_Duration</th>\n",
       "      <th>Total_Costs</th>\n",
       "      <th>Inpatient_Num_Diagnoses</th>\n",
       "      <th>Outpatient_Num_Diagnoses</th>\n",
       "      <th>...</th>\n",
       "      <th>Prescription_S03</th>\n",
       "      <th>Prescription_V01</th>\n",
       "      <th>Prescription_V03</th>\n",
       "      <th>Prescription_V04</th>\n",
       "      <th>Prescription_V06</th>\n",
       "      <th>Prescription_V07</th>\n",
       "      <th>Prescription_V08</th>\n",
       "      <th>Prescription_V09</th>\n",
       "      <th>Prescription_V10</th>\n",
       "      <th>Prescription_V70</th>\n",
       "    </tr>\n",
       "  </thead>\n",
       "  <tbody>\n",
       "    <tr>\n",
       "      <th>0</th>\n",
       "      <td>0</td>\n",
       "      <td>30.508696</td>\n",
       "      <td>0</td>\n",
       "      <td>0.0</td>\n",
       "      <td>31</td>\n",
       "      <td>0</td>\n",
       "      <td>0</td>\n",
       "      <td>0.0</td>\n",
       "      <td>0</td>\n",
       "      <td>0</td>\n",
       "      <td>...</td>\n",
       "      <td>0</td>\n",
       "      <td>0</td>\n",
       "      <td>0</td>\n",
       "      <td>0</td>\n",
       "      <td>0</td>\n",
       "      <td>0</td>\n",
       "      <td>0</td>\n",
       "      <td>0</td>\n",
       "      <td>0</td>\n",
       "      <td>0</td>\n",
       "    </tr>\n",
       "    <tr>\n",
       "      <th>1</th>\n",
       "      <td>0</td>\n",
       "      <td>30.571859</td>\n",
       "      <td>0</td>\n",
       "      <td>0.0</td>\n",
       "      <td>28</td>\n",
       "      <td>0</td>\n",
       "      <td>0</td>\n",
       "      <td>0.0</td>\n",
       "      <td>0</td>\n",
       "      <td>0</td>\n",
       "      <td>...</td>\n",
       "      <td>0</td>\n",
       "      <td>0</td>\n",
       "      <td>0</td>\n",
       "      <td>0</td>\n",
       "      <td>0</td>\n",
       "      <td>0</td>\n",
       "      <td>0</td>\n",
       "      <td>0</td>\n",
       "      <td>0</td>\n",
       "      <td>0</td>\n",
       "    </tr>\n",
       "    <tr>\n",
       "      <th>2</th>\n",
       "      <td>0</td>\n",
       "      <td>30.898212</td>\n",
       "      <td>0</td>\n",
       "      <td>0.0</td>\n",
       "      <td>28</td>\n",
       "      <td>0</td>\n",
       "      <td>0</td>\n",
       "      <td>0.0</td>\n",
       "      <td>0</td>\n",
       "      <td>0</td>\n",
       "      <td>...</td>\n",
       "      <td>0</td>\n",
       "      <td>0</td>\n",
       "      <td>0</td>\n",
       "      <td>0</td>\n",
       "      <td>0</td>\n",
       "      <td>0</td>\n",
       "      <td>0</td>\n",
       "      <td>0</td>\n",
       "      <td>0</td>\n",
       "      <td>0</td>\n",
       "    </tr>\n",
       "    <tr>\n",
       "      <th>3</th>\n",
       "      <td>0</td>\n",
       "      <td>30.898212</td>\n",
       "      <td>0</td>\n",
       "      <td>0.0</td>\n",
       "      <td>47</td>\n",
       "      <td>0</td>\n",
       "      <td>0</td>\n",
       "      <td>0.0</td>\n",
       "      <td>0</td>\n",
       "      <td>0</td>\n",
       "      <td>...</td>\n",
       "      <td>0</td>\n",
       "      <td>0</td>\n",
       "      <td>0</td>\n",
       "      <td>0</td>\n",
       "      <td>0</td>\n",
       "      <td>0</td>\n",
       "      <td>0</td>\n",
       "      <td>0</td>\n",
       "      <td>0</td>\n",
       "      <td>0</td>\n",
       "    </tr>\n",
       "    <tr>\n",
       "      <th>4</th>\n",
       "      <td>0</td>\n",
       "      <td>30.909809</td>\n",
       "      <td>0</td>\n",
       "      <td>0.0</td>\n",
       "      <td>34</td>\n",
       "      <td>0</td>\n",
       "      <td>0</td>\n",
       "      <td>0.0</td>\n",
       "      <td>0</td>\n",
       "      <td>0</td>\n",
       "      <td>...</td>\n",
       "      <td>0</td>\n",
       "      <td>0</td>\n",
       "      <td>0</td>\n",
       "      <td>0</td>\n",
       "      <td>0</td>\n",
       "      <td>0</td>\n",
       "      <td>0</td>\n",
       "      <td>0</td>\n",
       "      <td>0</td>\n",
       "      <td>0</td>\n",
       "    </tr>\n",
       "  </tbody>\n",
       "</table>\n",
       "<p>5 rows × 661 columns</p>\n",
       "</div>"
      ],
      "text/plain": [
       "   HC_Patient_Next_Year  Total_Costs_Next_Year  HC_Patient  Sex  Age  \\\n",
       "0                     0              30.508696           0  0.0   31   \n",
       "1                     0              30.571859           0  0.0   28   \n",
       "2                     0              30.898212           0  0.0   28   \n",
       "3                     0              30.898212           0  0.0   47   \n",
       "4                     0              30.909809           0  0.0   34   \n",
       "\n",
       "   Need_of_Care_Duration  DMP_Duration  Total_Costs  Inpatient_Num_Diagnoses  \\\n",
       "0                      0             0          0.0                        0   \n",
       "1                      0             0          0.0                        0   \n",
       "2                      0             0          0.0                        0   \n",
       "3                      0             0          0.0                        0   \n",
       "4                      0             0          0.0                        0   \n",
       "\n",
       "   Outpatient_Num_Diagnoses  ...  Prescription_S03  Prescription_V01  \\\n",
       "0                         0  ...                 0                 0   \n",
       "1                         0  ...                 0                 0   \n",
       "2                         0  ...                 0                 0   \n",
       "3                         0  ...                 0                 0   \n",
       "4                         0  ...                 0                 0   \n",
       "\n",
       "   Prescription_V03  Prescription_V04  Prescription_V06  Prescription_V07  \\\n",
       "0                 0                 0                 0                 0   \n",
       "1                 0                 0                 0                 0   \n",
       "2                 0                 0                 0                 0   \n",
       "3                 0                 0                 0                 0   \n",
       "4                 0                 0                 0                 0   \n",
       "\n",
       "   Prescription_V08  Prescription_V09  Prescription_V10  Prescription_V70  \n",
       "0                 0                 0                 0                 0  \n",
       "1                 0                 0                 0                 0  \n",
       "2                 0                 0                 0                 0  \n",
       "3                 0                 0                 0                 0  \n",
       "4                 0                 0                 0                 0  \n",
       "\n",
       "[5 rows x 661 columns]"
      ]
     },
     "execution_count": 9,
     "metadata": {},
     "output_type": "execute_result"
    }
   ],
   "source": [
    "train.head()"
   ]
  },
  {
   "cell_type": "markdown",
   "metadata": {},
   "source": [
    "## Load Model"
   ]
  },
  {
   "cell_type": "code",
   "execution_count": 10,
   "metadata": {},
   "outputs": [],
   "source": [
    "with open('results/complete/unbalanced/model_explanation/random_forest_python.sav', 'rb') as handle:\n",
    "    model = pickle.load(handle)\n",
    "    \n",
    "with open('results/complete/unbalanced/model_explanation/random_forest_python_threshold.sav', 'rb') as handle:\n",
    "    best_thresh = pickle.load(handle)"
   ]
  },
  {
   "cell_type": "code",
   "execution_count": 11,
   "metadata": {},
   "outputs": [
    {
     "data": {
      "text/plain": [
       "0.07"
      ]
     },
     "execution_count": 11,
     "metadata": {},
     "output_type": "execute_result"
    }
   ],
   "source": [
    "best_thresh"
   ]
  },
  {
   "cell_type": "markdown",
   "metadata": {},
   "source": [
    "### Choose sample\n",
    "Sample to investigate better, choose sample with user-specified model outcome"
   ]
  },
  {
   "cell_type": "code",
   "execution_count": 12,
   "metadata": {},
   "outputs": [],
   "source": [
    "prediction_probs = model.predict_proba(X_test)[:,1]\n",
    "prediction_probs_pos = prediction_probs[y_test == 1]\n",
    "prediction_probs_neg = prediction_probs[y_test == 0]\n",
    "\n",
    "predictions = np.array(prediction_probs >= best_thresh, dtype=int)\n",
    "predictions_pos = np.array(prediction_probs_pos >= best_thresh, dtype=int)\n",
    "predictions_neg = np.array(prediction_probs_neg >= best_thresh, dtype=int)"
   ]
  },
  {
   "cell_type": "code",
   "execution_count": 15,
   "metadata": {},
   "outputs": [],
   "source": [
    "samples_selected = X_test.loc[(y_test == true_outcome) & (predictions == prediction_outcome)]\n",
    "samples_true_pos = X_test.loc[(y_test == 1) & (predictions == 1)]\n",
    "samples_false_pos = X_test.loc[(y_test == 0) & (predictions == 1)]\n",
    "samples_false_neg = X_test.loc[(y_test == 1) & (predictions == 0)]\n",
    "samples_true_neg = X_test.loc[(y_test == 0) & (predictions == 0)]"
   ]
  },
  {
   "cell_type": "markdown",
   "metadata": {},
   "source": [
    "## XAI METHODS\n",
    "\n",
    "### MODIFY"
   ]
  },
  {
   "cell_type": "code",
   "execution_count": 23,
   "metadata": {},
   "outputs": [
    {
     "data": {
      "text/html": [
       "<div>\n",
       "<style scoped>\n",
       "    .dataframe tbody tr th:only-of-type {\n",
       "        vertical-align: middle;\n",
       "    }\n",
       "\n",
       "    .dataframe tbody tr th {\n",
       "        vertical-align: top;\n",
       "    }\n",
       "\n",
       "    .dataframe thead th {\n",
       "        text-align: right;\n",
       "    }\n",
       "</style>\n",
       "<table border=\"1\" class=\"dataframe\">\n",
       "  <thead>\n",
       "    <tr style=\"text-align: right;\">\n",
       "      <th></th>\n",
       "      <th>HC_Patient</th>\n",
       "      <th>Sex</th>\n",
       "      <th>Age</th>\n",
       "      <th>Need_of_Care_Duration</th>\n",
       "      <th>DMP_Duration</th>\n",
       "      <th>Total_Costs</th>\n",
       "      <th>Inpatient_Num_Diagnoses</th>\n",
       "      <th>Outpatient_Num_Diagnoses</th>\n",
       "      <th>Prescription_Num_Prescriptions</th>\n",
       "      <th>Inpatient_A</th>\n",
       "      <th>...</th>\n",
       "      <th>Prescription_S03</th>\n",
       "      <th>Prescription_V01</th>\n",
       "      <th>Prescription_V03</th>\n",
       "      <th>Prescription_V04</th>\n",
       "      <th>Prescription_V06</th>\n",
       "      <th>Prescription_V07</th>\n",
       "      <th>Prescription_V08</th>\n",
       "      <th>Prescription_V09</th>\n",
       "      <th>Prescription_V10</th>\n",
       "      <th>Prescription_V70</th>\n",
       "    </tr>\n",
       "  </thead>\n",
       "  <tbody>\n",
       "    <tr>\n",
       "      <th>386</th>\n",
       "      <td>0</td>\n",
       "      <td>1.0</td>\n",
       "      <td>56</td>\n",
       "      <td>0</td>\n",
       "      <td>0</td>\n",
       "      <td>4876.174026</td>\n",
       "      <td>2</td>\n",
       "      <td>41</td>\n",
       "      <td>15</td>\n",
       "      <td>0</td>\n",
       "      <td>...</td>\n",
       "      <td>0</td>\n",
       "      <td>0</td>\n",
       "      <td>0</td>\n",
       "      <td>0</td>\n",
       "      <td>0</td>\n",
       "      <td>0</td>\n",
       "      <td>0</td>\n",
       "      <td>0</td>\n",
       "      <td>0</td>\n",
       "      <td>0</td>\n",
       "    </tr>\n",
       "    <tr>\n",
       "      <th>417</th>\n",
       "      <td>0</td>\n",
       "      <td>1.0</td>\n",
       "      <td>70</td>\n",
       "      <td>1</td>\n",
       "      <td>0</td>\n",
       "      <td>5382.526709</td>\n",
       "      <td>3</td>\n",
       "      <td>77</td>\n",
       "      <td>38</td>\n",
       "      <td>0</td>\n",
       "      <td>...</td>\n",
       "      <td>0</td>\n",
       "      <td>0</td>\n",
       "      <td>0</td>\n",
       "      <td>0</td>\n",
       "      <td>0</td>\n",
       "      <td>0</td>\n",
       "      <td>0</td>\n",
       "      <td>0</td>\n",
       "      <td>0</td>\n",
       "      <td>0</td>\n",
       "    </tr>\n",
       "    <tr>\n",
       "      <th>0</th>\n",
       "      <td>0</td>\n",
       "      <td>1.0</td>\n",
       "      <td>73</td>\n",
       "      <td>0</td>\n",
       "      <td>0</td>\n",
       "      <td>152.313555</td>\n",
       "      <td>0</td>\n",
       "      <td>35</td>\n",
       "      <td>6</td>\n",
       "      <td>0</td>\n",
       "      <td>...</td>\n",
       "      <td>0</td>\n",
       "      <td>0</td>\n",
       "      <td>0</td>\n",
       "      <td>0</td>\n",
       "      <td>0</td>\n",
       "      <td>0</td>\n",
       "      <td>0</td>\n",
       "      <td>0</td>\n",
       "      <td>0</td>\n",
       "      <td>0</td>\n",
       "    </tr>\n",
       "    <tr>\n",
       "      <th>1</th>\n",
       "      <td>0</td>\n",
       "      <td>0.0</td>\n",
       "      <td>12</td>\n",
       "      <td>0</td>\n",
       "      <td>0</td>\n",
       "      <td>152.377651</td>\n",
       "      <td>0</td>\n",
       "      <td>5</td>\n",
       "      <td>0</td>\n",
       "      <td>0</td>\n",
       "      <td>...</td>\n",
       "      <td>0</td>\n",
       "      <td>0</td>\n",
       "      <td>0</td>\n",
       "      <td>0</td>\n",
       "      <td>0</td>\n",
       "      <td>0</td>\n",
       "      <td>0</td>\n",
       "      <td>0</td>\n",
       "      <td>0</td>\n",
       "      <td>0</td>\n",
       "    </tr>\n",
       "  </tbody>\n",
       "</table>\n",
       "<p>4 rows × 659 columns</p>\n",
       "</div>"
      ],
      "text/plain": [
       "     HC_Patient  Sex  Age  Need_of_Care_Duration  DMP_Duration  Total_Costs  \\\n",
       "386           0  1.0   56                      0             0  4876.174026   \n",
       "417           0  1.0   70                      1             0  5382.526709   \n",
       "0             0  1.0   73                      0             0   152.313555   \n",
       "1             0  0.0   12                      0             0   152.377651   \n",
       "\n",
       "     Inpatient_Num_Diagnoses  Outpatient_Num_Diagnoses  \\\n",
       "386                        2                        41   \n",
       "417                        3                        77   \n",
       "0                          0                        35   \n",
       "1                          0                         5   \n",
       "\n",
       "     Prescription_Num_Prescriptions  Inpatient_A  ...  Prescription_S03  \\\n",
       "386                              15            0  ...                 0   \n",
       "417                              38            0  ...                 0   \n",
       "0                                 6            0  ...                 0   \n",
       "1                                 0            0  ...                 0   \n",
       "\n",
       "     Prescription_V01  Prescription_V03  Prescription_V04  Prescription_V06  \\\n",
       "386                 0                 0                 0                 0   \n",
       "417                 0                 0                 0                 0   \n",
       "0                   0                 0                 0                 0   \n",
       "1                   0                 0                 0                 0   \n",
       "\n",
       "     Prescription_V07  Prescription_V08  Prescription_V09  Prescription_V10  \\\n",
       "386                 0                 0                 0                 0   \n",
       "417                 0                 0                 0                 0   \n",
       "0                   0                 0                 0                 0   \n",
       "1                   0                 0                 0                 0   \n",
       "\n",
       "     Prescription_V70  \n",
       "386                 0  \n",
       "417                 0  \n",
       "0                   0  \n",
       "1                   0  \n",
       "\n",
       "[4 rows x 659 columns]"
      ]
     },
     "execution_count": 23,
     "metadata": {},
     "output_type": "execute_result"
    }
   ],
   "source": [
    "pd.concat([samples_true_pos.iloc[:2], samples_true_neg.iloc[:2]])"
   ]
  },
  {
   "cell_type": "code",
   "execution_count": 32,
   "metadata": {},
   "outputs": [],
   "source": [
    "# Indicate the indices of the samples I would like to explain\n",
    "local_samples_idx = list(samples_true_pos.index[:2]) + list(samples_false_pos.index[:2]) + list(samples_false_neg.index[:2]) + list(samples_true_neg.index[:2])\n",
    "local_samples_X = X_test.iloc[local_samples_idx]\n",
    "local_samples_y = y_test.iloc[local_samples_idx]\n",
    "local_samples_predictions = predictions[local_samples_idx]"
   ]
  },
  {
   "cell_type": "markdown",
   "metadata": {},
   "source": [
    "### SHAP "
   ]
  },
  {
   "cell_type": "code",
   "execution_count": 33,
   "metadata": {},
   "outputs": [
    {
     "name": "stderr",
     "output_type": "stream",
     "text": [
      "Using 200 background data samples could cause slower run times. Consider using shap.sample(data, K) or shap.kmeans(data, K) to summarize the background as K samples.\n"
     ]
    }
   ],
   "source": [
    "# Due to size of data set, summarization techniques are required\n",
    "# TODO: Figure out a good summarize number here \n",
    "X_train_summary = shap.sample(X_train, 200)\n",
    "exp_shap = ShapKernel(model, X_train_summary)"
   ]
  },
  {
   "cell_type": "code",
   "execution_count": 34,
   "metadata": {},
   "outputs": [
    {
     "name": "stderr",
     "output_type": "stream",
     "text": [
      "100%|██████████| 8/8 [1:39:14<00:00, 744.34s/it]   \n"
     ]
    }
   ],
   "source": [
    "# shap = ShapKernel(model, X_train)\n",
    "exp_local_shap = exp_shap.explain_local(local_samples_X, local_samples_y)"
   ]
  },
  {
   "cell_type": "code",
   "execution_count": 35,
   "metadata": {},
   "outputs": [
    {
     "data": {
      "text/html": [
       "<!-- http://127.0.0.1:7001/2232310283056/ -->\n",
       "<iframe src=\"http://127.0.0.1:7001/2232310283056/\" width=100% height=800 frameBorder=\"0\"></iframe>"
      ]
     },
     "metadata": {},
     "output_type": "display_data"
    }
   ],
   "source": [
    "interpret.show(exp_local_shap)"
   ]
  },
  {
   "cell_type": "markdown",
   "metadata": {},
   "source": [
    "### LIME "
   ]
  },
  {
   "cell_type": "code",
   "execution_count": 36,
   "metadata": {},
   "outputs": [],
   "source": [
    "exp_lime = LimeTabular(model, X_train)\n",
    "exp_local_lime = exp_lime.explain_local(local_samples_X, local_samples_y)"
   ]
  },
  {
   "cell_type": "code",
   "execution_count": 39,
   "metadata": {},
   "outputs": [
    {
     "data": {
      "text/html": [
       "<!-- http://127.0.0.1:7001/2236866970976/ -->\n",
       "<iframe src=\"http://127.0.0.1:7001/2236866970976/\" width=100% height=800 frameBorder=\"0\"></iframe>"
      ]
     },
     "metadata": {},
     "output_type": "display_data"
    }
   ],
   "source": [
    "# TODO: What does the 0 do here? \n",
    "interpret.show(exp_local_lime, 1)"
   ]
  },
  {
   "cell_type": "markdown",
   "metadata": {},
   "source": [
    "### PDP "
   ]
  },
  {
   "cell_type": "code",
   "execution_count": 42,
   "metadata": {},
   "outputs": [],
   "source": [
    "pdp_iml = interpret.blackbox.PartialDependence(model, X_train)\n",
    "pdp_global_iml = pdp_iml.explain_global()"
   ]
  },
  {
   "cell_type": "code",
   "execution_count": null,
   "metadata": {},
   "outputs": [
    {
     "ename": "NameError",
     "evalue": "name 'pdp_iml' is not defined",
     "output_type": "error",
     "traceback": [
      "\u001b[1;31m---------------------------------------------------------------------------\u001b[0m",
      "\u001b[1;31mNameError\u001b[0m                                 Traceback (most recent call last)",
      "Cell \u001b[1;32mIn[17], line 3\u001b[0m\n\u001b[0;32m      1\u001b[0m \u001b[38;5;66;03m# TODO: Check why there is a one in interpret.show(pdp...)\u001b[39;00m\n\u001b[0;32m      2\u001b[0m exp_key \u001b[38;5;241m=\u001b[39m \u001b[38;5;241m0\u001b[39m\n\u001b[1;32m----> 3\u001b[0m interpret\u001b[38;5;241m.\u001b[39mshow(\u001b[43mpdp_iml\u001b[49m\u001b[38;5;241m.\u001b[39mexplain_global(), exp_key)\n",
      "\u001b[1;31mNameError\u001b[0m: name 'pdp_iml' is not defined"
     ]
    }
   ],
   "source": [
    "# TODO: Check why there is a one in interpret.show(pdp...)\n",
    "exp_key = 0\n",
    "interpret.show(pdp_iml.explain_global(), exp_key)"
   ]
  },
  {
   "cell_type": "markdown",
   "metadata": {},
   "source": [
    "### Morris Sensitivity Analysis "
   ]
  },
  {
   "cell_type": "code",
   "execution_count": 65,
   "metadata": {},
   "outputs": [
    {
     "name": "stderr",
     "output_type": "stream",
     "text": [
      "c:\\Users\\Sebastian's work\\OneDrive - OptiMedis AG\\Dokumente\\Coding\\High-Cost-patient-analysis\\.venv\\Lib\\site-packages\\SALib\\util\\__init__.py:302: FutureWarning:\n",
      "\n",
      "unique with argument that is not not a Series, Index, ExtensionArray, or np.ndarray is deprecated and will raise in a future version.\n",
      "\n"
     ]
    },
    {
     "ename": "MemoryError",
     "evalue": "Unable to allocate 3.18 MiB for an array with shape (646, 645) and data type float64",
     "output_type": "error",
     "traceback": [
      "\u001b[1;31m---------------------------------------------------------------------------\u001b[0m",
      "\u001b[1;31mMemoryError\u001b[0m                               Traceback (most recent call last)",
      "Cell \u001b[1;32mIn[65], line 1\u001b[0m\n\u001b[1;32m----> 1\u001b[0m msa_iml \u001b[38;5;241m=\u001b[39m \u001b[43minterpret\u001b[49m\u001b[38;5;241;43m.\u001b[39;49m\u001b[43mblackbox\u001b[49m\u001b[38;5;241;43m.\u001b[39;49m\u001b[43mMorrisSensitivity\u001b[49m\u001b[43m(\u001b[49m\u001b[43mmodel\u001b[49m\u001b[43m,\u001b[49m\u001b[43m \u001b[49m\u001b[43mX_train\u001b[49m\u001b[43m)\u001b[49m\n\u001b[0;32m      2\u001b[0m msa_global_iml \u001b[38;5;241m=\u001b[39m msa_iml\u001b[38;5;241m.\u001b[39mexplain_global()\n",
      "File \u001b[1;32mc:\\Users\\Sebastian's work\\OneDrive - OptiMedis AG\\Dokumente\\Coding\\High-Cost-patient-analysis\\.venv\\Lib\\site-packages\\interpret\\blackbox\\_sensitivity.py:96\u001b[0m, in \u001b[0;36mMorrisSensitivity.__init__\u001b[1;34m(self, model, data, feature_names, feature_types, sampler, **kwargs)\u001b[0m\n\u001b[0;32m     93\u001b[0m \u001b[38;5;28;01mif\u001b[39;00m sampler \u001b[38;5;129;01mis\u001b[39;00m \u001b[38;5;28;01mNone\u001b[39;00m:\n\u001b[0;32m     94\u001b[0m     sampler \u001b[38;5;241m=\u001b[39m MorrisSampler()\n\u001b[1;32m---> 96\u001b[0m samples \u001b[38;5;241m=\u001b[39m \u001b[43msampler\u001b[49m\u001b[38;5;241;43m.\u001b[39;49m\u001b[43msample\u001b[49m\u001b[43m(\u001b[49m\u001b[43mdata\u001b[49m\u001b[43m,\u001b[49m\u001b[43m \u001b[49m\u001b[38;5;28;43mself\u001b[39;49m\u001b[38;5;241;43m.\u001b[39;49m\u001b[43mfeature_names_in_\u001b[49m\u001b[43m,\u001b[49m\u001b[43m \u001b[49m\u001b[38;5;28;43mself\u001b[39;49m\u001b[38;5;241;43m.\u001b[39;49m\u001b[43mfeature_types_in_\u001b[49m\u001b[43m)\u001b[49m\n\u001b[0;32m     97\u001b[0m problem \u001b[38;5;241m=\u001b[39m _gen_problem_from_data(data, \u001b[38;5;28mself\u001b[39m\u001b[38;5;241m.\u001b[39mfeature_names_in_)\n\u001b[0;32m     98\u001b[0m analysis \u001b[38;5;241m=\u001b[39m morris\u001b[38;5;241m.\u001b[39manalyze(\n\u001b[0;32m     99\u001b[0m     problem, samples, predict_fn(samples)\u001b[38;5;241m.\u001b[39mastype(\u001b[38;5;28mfloat\u001b[39m), \u001b[38;5;241m*\u001b[39m\u001b[38;5;241m*\u001b[39mkwargs\n\u001b[0;32m    100\u001b[0m )\n",
      "File \u001b[1;32mc:\\Users\\Sebastian's work\\OneDrive - OptiMedis AG\\Dokumente\\Coding\\High-Cost-patient-analysis\\.venv\\Lib\\site-packages\\interpret\\blackbox\\_sensitivity.py:39\u001b[0m, in \u001b[0;36mMorrisSampler.sample\u001b[1;34m(self, data, feature_names, feature_types)\u001b[0m\n\u001b[0;32m     36\u001b[0m \u001b[38;5;28;01mfrom\u001b[39;00m \u001b[38;5;21;01mSALib\u001b[39;00m\u001b[38;5;21;01m.\u001b[39;00m\u001b[38;5;21;01msample\u001b[39;00m \u001b[38;5;28;01mimport\u001b[39;00m morris \u001b[38;5;28;01mas\u001b[39;00m morris_sampler\n\u001b[0;32m     38\u001b[0m problem \u001b[38;5;241m=\u001b[39m _gen_problem_from_data(data, feature_names)\n\u001b[1;32m---> 39\u001b[0m \u001b[38;5;28;01mreturn\u001b[39;00m \u001b[43mmorris_sampler\u001b[49m\u001b[38;5;241;43m.\u001b[39;49m\u001b[43msample\u001b[49m\u001b[43m(\u001b[49m\n\u001b[0;32m     40\u001b[0m \u001b[43m    \u001b[49m\u001b[43mproblem\u001b[49m\u001b[43m,\u001b[49m\u001b[43m \u001b[49m\u001b[43mN\u001b[49m\u001b[38;5;241;43m=\u001b[39;49m\u001b[38;5;28;43mself\u001b[39;49m\u001b[38;5;241;43m.\u001b[39;49m\u001b[43mN\u001b[49m\u001b[43m,\u001b[49m\u001b[43m \u001b[49m\u001b[43mnum_levels\u001b[49m\u001b[38;5;241;43m=\u001b[39;49m\u001b[38;5;28;43mself\u001b[39;49m\u001b[38;5;241;43m.\u001b[39;49m\u001b[43mnum_levels\u001b[49m\u001b[43m,\u001b[49m\u001b[43m \u001b[49m\u001b[38;5;241;43m*\u001b[39;49m\u001b[38;5;241;43m*\u001b[39;49m\u001b[38;5;28;43mself\u001b[39;49m\u001b[38;5;241;43m.\u001b[39;49m\u001b[43mkwargs\u001b[49m\n\u001b[0;32m     41\u001b[0m \u001b[43m\u001b[49m\u001b[43m)\u001b[49m\n",
      "File \u001b[1;32mc:\\Users\\Sebastian's work\\OneDrive - OptiMedis AG\\Dokumente\\Coding\\High-Cost-patient-analysis\\.venv\\Lib\\site-packages\\SALib\\sample\\morris\\morris.py:133\u001b[0m, in \u001b[0;36msample\u001b[1;34m(problem, N, num_levels, optimal_trajectories, local_optimization, seed)\u001b[0m\n\u001b[0;32m    129\u001b[0m _check_if_num_levels_is_even(num_levels)\n\u001b[0;32m    131\u001b[0m problem \u001b[38;5;241m=\u001b[39m _define_problem_with_groups(problem)\n\u001b[1;32m--> 133\u001b[0m sample_morris \u001b[38;5;241m=\u001b[39m \u001b[43m_sample_morris\u001b[49m\u001b[43m(\u001b[49m\u001b[43mproblem\u001b[49m\u001b[43m,\u001b[49m\u001b[43m \u001b[49m\u001b[43mN\u001b[49m\u001b[43m,\u001b[49m\u001b[43m \u001b[49m\u001b[43mnum_levels\u001b[49m\u001b[43m)\u001b[49m\n\u001b[0;32m    135\u001b[0m \u001b[38;5;28;01mif\u001b[39;00m optimal_trajectories:\n\u001b[0;32m    136\u001b[0m     \u001b[38;5;28;01mif\u001b[39;00m local_optimization \u001b[38;5;129;01mand\u001b[39;00m (\n\u001b[0;32m    137\u001b[0m         \u001b[38;5;129;01mnot\u001b[39;00m \u001b[38;5;28misinstance\u001b[39m(optimal_trajectories, \u001b[38;5;28mint\u001b[39m) \u001b[38;5;129;01mor\u001b[39;00m optimal_trajectories \u001b[38;5;241m>\u001b[39m N\n\u001b[0;32m    138\u001b[0m     ):\n",
      "File \u001b[1;32mc:\\Users\\Sebastian's work\\OneDrive - OptiMedis AG\\Dokumente\\Coding\\High-Cost-patient-analysis\\.venv\\Lib\\site-packages\\SALib\\sample\\morris\\morris.py:180\u001b[0m, in \u001b[0;36m_sample_morris\u001b[1;34m(problem, number_trajectories, num_levels)\u001b[0m\n\u001b[0;32m    176\u001b[0m num_params \u001b[38;5;241m=\u001b[39m group_membership\u001b[38;5;241m.\u001b[39mshape[\u001b[38;5;241m0\u001b[39m]\n\u001b[0;32m    177\u001b[0m num_groups \u001b[38;5;241m=\u001b[39m group_membership\u001b[38;5;241m.\u001b[39mshape[\u001b[38;5;241m1\u001b[39m]\n\u001b[0;32m    179\u001b[0m sample_morris \u001b[38;5;241m=\u001b[39m [\n\u001b[1;32m--> 180\u001b[0m     \u001b[43m_generate_trajectory\u001b[49m\u001b[43m(\u001b[49m\u001b[43mgroup_membership\u001b[49m\u001b[43m,\u001b[49m\u001b[43m \u001b[49m\u001b[43mnum_levels\u001b[49m\u001b[43m)\u001b[49m\n\u001b[0;32m    181\u001b[0m     \u001b[38;5;28;01mfor\u001b[39;00m _ \u001b[38;5;129;01min\u001b[39;00m \u001b[38;5;28mrange\u001b[39m(number_trajectories)\n\u001b[0;32m    182\u001b[0m ]\n\u001b[0;32m    183\u001b[0m sample_morris \u001b[38;5;241m=\u001b[39m np\u001b[38;5;241m.\u001b[39marray(sample_morris)\n\u001b[0;32m    185\u001b[0m \u001b[38;5;28;01mreturn\u001b[39;00m sample_morris\u001b[38;5;241m.\u001b[39mreshape((number_trajectories \u001b[38;5;241m*\u001b[39m (num_groups \u001b[38;5;241m+\u001b[39m \u001b[38;5;241m1\u001b[39m), num_params))\n",
      "File \u001b[1;32mc:\\Users\\Sebastian's work\\OneDrive - OptiMedis AG\\Dokumente\\Coding\\High-Cost-patient-analysis\\.venv\\Lib\\site-packages\\SALib\\sample\\morris\\morris.py:232\u001b[0m, in \u001b[0;36m_generate_trajectory\u001b[1;34m(group_membership, num_levels)\u001b[0m\n\u001b[0;32m    229\u001b[0m x_star \u001b[38;5;241m=\u001b[39m _generate_x_star(num_params, num_levels)\n\u001b[0;32m    231\u001b[0m \u001b[38;5;66;03m# Matrix B* - size (num_groups + 1) * num_params\u001b[39;00m\n\u001b[1;32m--> 232\u001b[0m B_star \u001b[38;5;241m=\u001b[39m \u001b[43m_compute_b_star\u001b[49m\u001b[43m(\u001b[49m\u001b[43mJ\u001b[49m\u001b[43m,\u001b[49m\u001b[43m \u001b[49m\u001b[43mx_star\u001b[49m\u001b[43m,\u001b[49m\u001b[43m \u001b[49m\u001b[43mdelta\u001b[49m\u001b[43m,\u001b[49m\u001b[43m \u001b[49m\u001b[43mB\u001b[49m\u001b[43m,\u001b[49m\u001b[43m \u001b[49m\u001b[43mgroup_membership\u001b[49m\u001b[43m,\u001b[49m\u001b[43m \u001b[49m\u001b[43mP_star\u001b[49m\u001b[43m,\u001b[49m\u001b[43m \u001b[49m\u001b[43mD_star\u001b[49m\u001b[43m)\u001b[49m\n\u001b[0;32m    234\u001b[0m \u001b[38;5;28;01mreturn\u001b[39;00m B_star\n",
      "File \u001b[1;32mc:\\Users\\Sebastian's work\\OneDrive - OptiMedis AG\\Dokumente\\Coding\\High-Cost-patient-analysis\\.venv\\Lib\\site-packages\\SALib\\sample\\morris\\morris.py:267\u001b[0m, in \u001b[0;36m_compute_b_star\u001b[1;34m(J, x_star, delta, B, G, P_star, D_star)\u001b[0m\n\u001b[0;32m    265\u001b[0m element_b \u001b[38;5;241m=\u001b[39m np\u001b[38;5;241m.\u001b[39mmatmul(G, P_star)\u001b[38;5;241m.\u001b[39mT\n\u001b[0;32m    266\u001b[0m element_c \u001b[38;5;241m=\u001b[39m np\u001b[38;5;241m.\u001b[39mmatmul(\u001b[38;5;241m2.0\u001b[39m \u001b[38;5;241m*\u001b[39m B, element_b)\n\u001b[1;32m--> 267\u001b[0m element_d \u001b[38;5;241m=\u001b[39m \u001b[43mnp\u001b[49m\u001b[38;5;241;43m.\u001b[39;49m\u001b[43mmatmul\u001b[49m\u001b[43m(\u001b[49m\u001b[43m(\u001b[49m\u001b[43melement_c\u001b[49m\u001b[43m \u001b[49m\u001b[38;5;241;43m-\u001b[39;49m\u001b[43m \u001b[49m\u001b[43mJ\u001b[49m\u001b[43m)\u001b[49m\u001b[43m,\u001b[49m\u001b[43m \u001b[49m\u001b[43mD_star\u001b[49m\u001b[43m)\u001b[49m\n\u001b[0;32m    269\u001b[0m b_star \u001b[38;5;241m=\u001b[39m element_a \u001b[38;5;241m+\u001b[39m (delta \u001b[38;5;241m/\u001b[39m \u001b[38;5;241m2.0\u001b[39m) \u001b[38;5;241m*\u001b[39m (element_d \u001b[38;5;241m+\u001b[39m J)\n\u001b[0;32m    270\u001b[0m \u001b[38;5;28;01mreturn\u001b[39;00m b_star\n",
      "\u001b[1;31mMemoryError\u001b[0m: Unable to allocate 3.18 MiB for an array with shape (646, 645) and data type float64"
     ]
    }
   ],
   "source": [
    "msa_iml = interpret.blackbox.MorrisSensitivity(model, X_train)\n",
    "msa_global_iml = msa_iml.explain_global()"
   ]
  },
  {
   "cell_type": "code",
   "execution_count": null,
   "metadata": {},
   "outputs": [],
   "source": [
    "interpret.show(msa_global_iml, 0)"
   ]
  },
  {
   "cell_type": "markdown",
   "metadata": {},
   "source": [
    "### Dashboard "
   ]
  },
  {
   "cell_type": "code",
   "execution_count": null,
   "metadata": {},
   "outputs": [],
   "source": [
    "interpret.show([exp_local_shap, exp_local_lime, pdp_global_iml])"
   ]
  }
 ],
 "metadata": {
  "kernelspec": {
   "display_name": ".venv",
   "language": "python",
   "name": "python3"
  },
  "language_info": {
   "codemirror_mode": {
    "name": "ipython",
    "version": 3
   },
   "file_extension": ".py",
   "mimetype": "text/x-python",
   "name": "python",
   "nbconvert_exporter": "python",
   "pygments_lexer": "ipython3",
   "version": "3.12.4"
  }
 },
 "nbformat": 4,
 "nbformat_minor": 2
}
