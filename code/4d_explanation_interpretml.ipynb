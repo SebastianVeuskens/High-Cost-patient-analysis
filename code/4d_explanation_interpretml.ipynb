{
 "cells": [
  {
   "cell_type": "markdown",
   "metadata": {},
   "source": [
    "### Import necessary libraries"
   ]
  },
  {
   "cell_type": "code",
   "execution_count": 1,
   "metadata": {},
   "outputs": [],
   "source": [
    "import pandas as pd\n",
    "import numpy as np\n",
    "from sklearn.ensemble import RandomForestClassifier\n",
    "import matplotlib.pyplot as plt\n",
    "import os\n",
    "import pickle "
   ]
  },
  {
   "cell_type": "code",
   "execution_count": 2,
   "metadata": {},
   "outputs": [
    {
     "name": "stderr",
     "output_type": "stream",
     "text": [
      "c:\\Users\\Sebastian's work\\OneDrive - OptiMedis AG\\Dokumente\\Coding\\High-Cost-patient-analysis\\.venv\\Lib\\site-packages\\tqdm\\auto.py:21: TqdmWarning: IProgress not found. Please update jupyter and ipywidgets. See https://ipywidgets.readthedocs.io/en/stable/user_install.html\n",
      "  from .autonotebook import tqdm as notebook_tqdm\n"
     ]
    }
   ],
   "source": [
    "import interpret\n",
    "import shap\n",
    "from interpret.blackbox import ShapKernel, LimeTabular"
   ]
  },
  {
   "cell_type": "code",
   "execution_count": 3,
   "metadata": {},
   "outputs": [],
   "source": [
    "path_list = ('results/', 'model_explanation/', 'interpretML')\n",
    "cur_path = ''\n",
    "for rep in path_list:\n",
    "    cur_path += rep\n",
    "    if not os.path.exists(cur_path):\n",
    "        os.makedirs(cur_path)\n",
    "result_path = ''.join(path_list)"
   ]
  },
  {
   "cell_type": "markdown",
   "metadata": {},
   "source": [
    "# CREATE EXPLANATIONS FOR RANDOM FOREST \n",
    "**File**: 5_explanation_interpretml.ipynb\n",
    "\n",
    "**Author**: Sebastian Benno Veuskens \n",
    "\n",
    "**Date**: 2024-07-28\n",
    "\n",
    "**Data**: train and test (same as evaluated model)  \n",
    "\n",
    "\n",
    "## Modify"
   ]
  },
  {
   "cell_type": "markdown",
   "metadata": {},
   "source": [
    "**Working directory**"
   ]
  },
  {
   "cell_type": "code",
   "execution_count": 4,
   "metadata": {},
   "outputs": [],
   "source": [
    "os.chdir(\"C:/Users/Sebastian's work/OneDrive - OptiMedis AG/Dokumente/Coding/High-Cost-patient-analysis\")"
   ]
  },
  {
   "cell_type": "markdown",
   "metadata": {},
   "source": [
    "**Parameters & Settings**"
   ]
  },
  {
   "cell_type": "code",
   "execution_count": 5,
   "metadata": {},
   "outputs": [],
   "source": [
    "target = 'HC_Patient_Next_Year'\n",
    "excluded = 'Total_Costs_Next_Year'\n",
    "prediction_outcome = 1  # Indicate which prediction outcome the sample should have \n",
    "true_outcome = 1 # Indicate which true HCP status the patient in the sample should have"
   ]
  },
  {
   "cell_type": "markdown",
   "metadata": {},
   "source": [
    "### Load data"
   ]
  },
  {
   "cell_type": "code",
   "execution_count": 6,
   "metadata": {},
   "outputs": [],
   "source": [
    "train = pd.read_csv('data/train_validate.csv', sep=',', header=0)\n",
    "test = pd.read_csv('data/test.csv', sep=',', header=0)"
   ]
  },
  {
   "cell_type": "markdown",
   "metadata": {},
   "source": [
    "### Transform categorical values"
   ]
  },
  {
   "cell_type": "code",
   "execution_count": 7,
   "metadata": {},
   "outputs": [],
   "source": [
    "# TODO: Check if I need this or whether I need to make the same transformations as before\n",
    "# train['Sex'] = pd.factorize(train['Sex'])[0]\n",
    "# test['Sex'] = pd.factorize(test['Sex'])[0]"
   ]
  },
  {
   "cell_type": "code",
   "execution_count": 8,
   "metadata": {},
   "outputs": [],
   "source": [
    "from sklearn.preprocessing import OrdinalEncoder\n",
    "all_columns = train.columns\n",
    "\n",
    "# If a column has more than two values, it is not categorical\n",
    "categorical_columns = all_columns[train.nunique(axis=0) == 2]\n",
    "numerical_columns = [all_columns.difference(categorical_columns)]\n",
    "\n",
    "categorical_columns_indices = [test.columns.tolist().index(cn) for cn in categorical_columns]\n",
    "oe = OrdinalEncoder().fit(train[categorical_columns])\n",
    "categorical_name_mapping = {i: list(v) if i < 11 else ['diagnosis absent', 'diagnosis present']\n",
    "                            for (i, v) in zip(categorical_columns_indices, oe.categories_)}\n",
    "\n",
    "\n",
    "train.loc[:, categorical_columns] = oe.transform(train[categorical_columns])\n",
    "test.loc[:, categorical_columns] = oe.transform(test[categorical_columns])"
   ]
  },
  {
   "cell_type": "markdown",
   "metadata": {},
   "source": [
    "### Split predictors & outcome labels "
   ]
  },
  {
   "cell_type": "code",
   "execution_count": 9,
   "metadata": {},
   "outputs": [],
   "source": [
    "predictors = [var for var in train.columns if var not in (target, excluded)]\n",
    "X_train, y_train = train[predictors], train[target]\n",
    "X_test, y_test = test[predictors], test[target]"
   ]
  },
  {
   "cell_type": "code",
   "execution_count": 10,
   "metadata": {},
   "outputs": [
    {
     "data": {
      "text/html": [
       "<div>\n",
       "<style scoped>\n",
       "    .dataframe tbody tr th:only-of-type {\n",
       "        vertical-align: middle;\n",
       "    }\n",
       "\n",
       "    .dataframe tbody tr th {\n",
       "        vertical-align: top;\n",
       "    }\n",
       "\n",
       "    .dataframe thead th {\n",
       "        text-align: right;\n",
       "    }\n",
       "</style>\n",
       "<table border=\"1\" class=\"dataframe\">\n",
       "  <thead>\n",
       "    <tr style=\"text-align: right;\">\n",
       "      <th></th>\n",
       "      <th>HC_Patient_Next_Year</th>\n",
       "      <th>Total_Costs_Next_Year</th>\n",
       "      <th>HC_Patient</th>\n",
       "      <th>Sex</th>\n",
       "      <th>Age</th>\n",
       "      <th>Need_of_Care_Duration</th>\n",
       "      <th>DMP_Duration</th>\n",
       "      <th>Total_Costs</th>\n",
       "      <th>Inpatient_Num_Diagnoses</th>\n",
       "      <th>Outpatient_Num_Diagnoses</th>\n",
       "      <th>...</th>\n",
       "      <th>Prescription_S03</th>\n",
       "      <th>Prescription_V01</th>\n",
       "      <th>Prescription_V03</th>\n",
       "      <th>Prescription_V04</th>\n",
       "      <th>Prescription_V06</th>\n",
       "      <th>Prescription_V07</th>\n",
       "      <th>Prescription_V08</th>\n",
       "      <th>Prescription_V09</th>\n",
       "      <th>Prescription_V10</th>\n",
       "      <th>Prescription_V70</th>\n",
       "    </tr>\n",
       "  </thead>\n",
       "  <tbody>\n",
       "    <tr>\n",
       "      <th>0</th>\n",
       "      <td>0</td>\n",
       "      <td>30.508696</td>\n",
       "      <td>0</td>\n",
       "      <td>0.0</td>\n",
       "      <td>31</td>\n",
       "      <td>0</td>\n",
       "      <td>0</td>\n",
       "      <td>0.0</td>\n",
       "      <td>0</td>\n",
       "      <td>0</td>\n",
       "      <td>...</td>\n",
       "      <td>0</td>\n",
       "      <td>0</td>\n",
       "      <td>0</td>\n",
       "      <td>0</td>\n",
       "      <td>0</td>\n",
       "      <td>0</td>\n",
       "      <td>0</td>\n",
       "      <td>0</td>\n",
       "      <td>0</td>\n",
       "      <td>0</td>\n",
       "    </tr>\n",
       "    <tr>\n",
       "      <th>1</th>\n",
       "      <td>0</td>\n",
       "      <td>30.571859</td>\n",
       "      <td>0</td>\n",
       "      <td>0.0</td>\n",
       "      <td>28</td>\n",
       "      <td>0</td>\n",
       "      <td>0</td>\n",
       "      <td>0.0</td>\n",
       "      <td>0</td>\n",
       "      <td>0</td>\n",
       "      <td>...</td>\n",
       "      <td>0</td>\n",
       "      <td>0</td>\n",
       "      <td>0</td>\n",
       "      <td>0</td>\n",
       "      <td>0</td>\n",
       "      <td>0</td>\n",
       "      <td>0</td>\n",
       "      <td>0</td>\n",
       "      <td>0</td>\n",
       "      <td>0</td>\n",
       "    </tr>\n",
       "    <tr>\n",
       "      <th>2</th>\n",
       "      <td>0</td>\n",
       "      <td>30.898212</td>\n",
       "      <td>0</td>\n",
       "      <td>0.0</td>\n",
       "      <td>28</td>\n",
       "      <td>0</td>\n",
       "      <td>0</td>\n",
       "      <td>0.0</td>\n",
       "      <td>0</td>\n",
       "      <td>0</td>\n",
       "      <td>...</td>\n",
       "      <td>0</td>\n",
       "      <td>0</td>\n",
       "      <td>0</td>\n",
       "      <td>0</td>\n",
       "      <td>0</td>\n",
       "      <td>0</td>\n",
       "      <td>0</td>\n",
       "      <td>0</td>\n",
       "      <td>0</td>\n",
       "      <td>0</td>\n",
       "    </tr>\n",
       "    <tr>\n",
       "      <th>3</th>\n",
       "      <td>0</td>\n",
       "      <td>30.898212</td>\n",
       "      <td>0</td>\n",
       "      <td>0.0</td>\n",
       "      <td>47</td>\n",
       "      <td>0</td>\n",
       "      <td>0</td>\n",
       "      <td>0.0</td>\n",
       "      <td>0</td>\n",
       "      <td>0</td>\n",
       "      <td>...</td>\n",
       "      <td>0</td>\n",
       "      <td>0</td>\n",
       "      <td>0</td>\n",
       "      <td>0</td>\n",
       "      <td>0</td>\n",
       "      <td>0</td>\n",
       "      <td>0</td>\n",
       "      <td>0</td>\n",
       "      <td>0</td>\n",
       "      <td>0</td>\n",
       "    </tr>\n",
       "    <tr>\n",
       "      <th>4</th>\n",
       "      <td>0</td>\n",
       "      <td>30.909809</td>\n",
       "      <td>0</td>\n",
       "      <td>0.0</td>\n",
       "      <td>34</td>\n",
       "      <td>0</td>\n",
       "      <td>0</td>\n",
       "      <td>0.0</td>\n",
       "      <td>0</td>\n",
       "      <td>0</td>\n",
       "      <td>...</td>\n",
       "      <td>0</td>\n",
       "      <td>0</td>\n",
       "      <td>0</td>\n",
       "      <td>0</td>\n",
       "      <td>0</td>\n",
       "      <td>0</td>\n",
       "      <td>0</td>\n",
       "      <td>0</td>\n",
       "      <td>0</td>\n",
       "      <td>0</td>\n",
       "    </tr>\n",
       "  </tbody>\n",
       "</table>\n",
       "<p>5 rows × 661 columns</p>\n",
       "</div>"
      ],
      "text/plain": [
       "   HC_Patient_Next_Year  Total_Costs_Next_Year  HC_Patient  Sex  Age  \\\n",
       "0                     0              30.508696           0  0.0   31   \n",
       "1                     0              30.571859           0  0.0   28   \n",
       "2                     0              30.898212           0  0.0   28   \n",
       "3                     0              30.898212           0  0.0   47   \n",
       "4                     0              30.909809           0  0.0   34   \n",
       "\n",
       "   Need_of_Care_Duration  DMP_Duration  Total_Costs  Inpatient_Num_Diagnoses  \\\n",
       "0                      0             0          0.0                        0   \n",
       "1                      0             0          0.0                        0   \n",
       "2                      0             0          0.0                        0   \n",
       "3                      0             0          0.0                        0   \n",
       "4                      0             0          0.0                        0   \n",
       "\n",
       "   Outpatient_Num_Diagnoses  ...  Prescription_S03  Prescription_V01  \\\n",
       "0                         0  ...                 0                 0   \n",
       "1                         0  ...                 0                 0   \n",
       "2                         0  ...                 0                 0   \n",
       "3                         0  ...                 0                 0   \n",
       "4                         0  ...                 0                 0   \n",
       "\n",
       "   Prescription_V03  Prescription_V04  Prescription_V06  Prescription_V07  \\\n",
       "0                 0                 0                 0                 0   \n",
       "1                 0                 0                 0                 0   \n",
       "2                 0                 0                 0                 0   \n",
       "3                 0                 0                 0                 0   \n",
       "4                 0                 0                 0                 0   \n",
       "\n",
       "   Prescription_V08  Prescription_V09  Prescription_V10  Prescription_V70  \n",
       "0                 0                 0                 0                 0  \n",
       "1                 0                 0                 0                 0  \n",
       "2                 0                 0                 0                 0  \n",
       "3                 0                 0                 0                 0  \n",
       "4                 0                 0                 0                 0  \n",
       "\n",
       "[5 rows x 661 columns]"
      ]
     },
     "execution_count": 10,
     "metadata": {},
     "output_type": "execute_result"
    }
   ],
   "source": [
    "train.head()"
   ]
  },
  {
   "cell_type": "markdown",
   "metadata": {},
   "source": [
    "## Load Model"
   ]
  },
  {
   "cell_type": "code",
   "execution_count": 11,
   "metadata": {},
   "outputs": [],
   "source": [
    "with open('results/model_explanation/random_forest_python.sav', 'rb') as handle:\n",
    "    model = pickle.load(handle)\n",
    "    \n",
    "with open('results/model_explanation/random_forest_python_threshold.sav', 'rb') as handle:\n",
    "    best_thresh = pickle.load(handle)"
   ]
  },
  {
   "cell_type": "code",
   "execution_count": 12,
   "metadata": {},
   "outputs": [
    {
     "data": {
      "text/plain": [
       "0.07"
      ]
     },
     "execution_count": 12,
     "metadata": {},
     "output_type": "execute_result"
    }
   ],
   "source": [
    "best_thresh"
   ]
  },
  {
   "cell_type": "markdown",
   "metadata": {},
   "source": [
    "### Choose sample\n",
    "Sample to investigate better, choose sample with user-specified model outcome"
   ]
  },
  {
   "cell_type": "code",
   "execution_count": 13,
   "metadata": {},
   "outputs": [],
   "source": [
    "prediction_probs = model.predict_proba(X_test)[:,1]\n",
    "prediction_probs_pos = prediction_probs[y_test == 1]\n",
    "prediction_probs_neg = prediction_probs[y_test == 0]\n",
    "\n",
    "predictions = np.array(prediction_probs >= best_thresh, dtype=int)\n",
    "predictions_pos = np.array(prediction_probs_pos >= best_thresh, dtype=int)\n",
    "predictions_neg = np.array(prediction_probs_neg >= best_thresh, dtype=int)"
   ]
  },
  {
   "cell_type": "code",
   "execution_count": 14,
   "metadata": {},
   "outputs": [],
   "source": [
    "samples_selected = X_test.loc[(y_test == true_outcome) & (predictions == prediction_outcome)]\n",
    "samples_true_pos = X_test.loc[(y_test == 1) & (predictions == 1)]\n",
    "samples_false_pos = X_test.loc[(y_test == 0) & (predictions == 1)]\n",
    "samples_false_neg = X_test.loc[(y_test == 1) & (predictions == 0)]\n",
    "samples_true_neg = X_test.loc[(y_test == 0) & (predictions == 0)]"
   ]
  },
  {
   "cell_type": "markdown",
   "metadata": {},
   "source": [
    "## XAI METHODS\n",
    "\n",
    "### MODIFY"
   ]
  },
  {
   "cell_type": "code",
   "execution_count": 15,
   "metadata": {},
   "outputs": [],
   "source": [
    "# Indicate the indices of the samples I would like to explain\n",
    "# local_samples_idx = list(samples_true_pos.index[:2]) + list(samples_false_pos.index[:2]) + list(samples_false_neg.index[:2]) + list(samples_true_neg.index[:2])\n",
    "local_samples_idx = [1467, 33839] \n",
    "local_samples_X = X_test.iloc[local_samples_idx,]\n",
    "local_samples_y = y_test.iloc[local_samples_idx]\n",
    "local_samples_predictions = predictions[local_samples_idx]"
   ]
  },
  {
   "cell_type": "markdown",
   "metadata": {},
   "source": [
    "### SHAP "
   ]
  },
  {
   "cell_type": "code",
   "execution_count": 26,
   "metadata": {},
   "outputs": [
    {
     "data": {
      "text/plain": [
       "0.07574383298886295"
      ]
     },
     "execution_count": 26,
     "metadata": {},
     "output_type": "execute_result"
    }
   ],
   "source": [
    "a = 62159 + 5094\n",
    "5094 / a"
   ]
  },
  {
   "cell_type": "code",
   "execution_count": 16,
   "metadata": {},
   "outputs": [
    {
     "name": "stderr",
     "output_type": "stream",
     "text": [
      "Using 200 background data samples could cause slower run times. Consider using shap.sample(data, K) or shap.kmeans(data, K) to summarize the background as K samples.\n"
     ]
    }
   ],
   "source": [
    "# Due to size of data set, summarization techniques are required\n",
    "# TODO: Figure out a good summarize number here \n",
    "X_train_summary = shap.sample(X_train, 200)\n",
    "exp_shap = ShapKernel(model, X_train_summary)"
   ]
  },
  {
   "cell_type": "code",
   "execution_count": 17,
   "metadata": {},
   "outputs": [
    {
     "name": "stderr",
     "output_type": "stream",
     "text": [
      "100%|██████████| 2/2 [04:54<00:00, 147.24s/it]\n"
     ]
    }
   ],
   "source": [
    "# shap = ShapKernel(model, X_train)\n",
    "exp_local_shap = exp_shap.explain_local(local_samples_X, local_samples_y)"
   ]
  },
  {
   "cell_type": "code",
   "execution_count": 18,
   "metadata": {},
   "outputs": [
    {
     "data": {
      "text/html": [
       "<!-- http://127.0.0.1:7001/2515634170304/ -->\n",
       "<iframe src=\"http://127.0.0.1:7001/2515634170304/\" width=100% height=800 frameBorder=\"0\"></iframe>"
      ]
     },
     "metadata": {},
     "output_type": "display_data"
    }
   ],
   "source": [
    "interpret.show(exp_local_shap)"
   ]
  },
  {
   "cell_type": "markdown",
   "metadata": {},
   "source": [
    "### LIME "
   ]
  },
  {
   "cell_type": "code",
   "execution_count": 19,
   "metadata": {},
   "outputs": [],
   "source": [
    "exp_lime = LimeTabular(model, X_train)\n",
    "exp_local_lime = exp_lime.explain_local(local_samples_X, local_samples_y)"
   ]
  },
  {
   "cell_type": "code",
   "execution_count": 20,
   "metadata": {},
   "outputs": [
    {
     "data": {
      "text/html": [
       "<!-- http://127.0.0.1:7001/2518439968896/ -->\n",
       "<iframe src=\"http://127.0.0.1:7001/2518439968896/\" width=100% height=800 frameBorder=\"0\"></iframe>"
      ]
     },
     "metadata": {},
     "output_type": "display_data"
    }
   ],
   "source": [
    "# TODO: What does the 0 do here? \n",
    "interpret.show(exp_local_lime, 1)"
   ]
  },
  {
   "cell_type": "markdown",
   "metadata": {},
   "source": [
    "### PDP "
   ]
  },
  {
   "cell_type": "code",
   "execution_count": 16,
   "metadata": {},
   "outputs": [],
   "source": [
    "pdp_iml = interpret.blackbox.PartialDependence(model, X_train)\n",
    "pdp_global_iml = pdp_iml.explain_global()"
   ]
  },
  {
   "cell_type": "code",
   "execution_count": 17,
   "metadata": {},
   "outputs": [
    {
     "data": {
      "text/html": [
       "<!-- http://127.0.0.1:7001/2042124695696/ -->\n",
       "<iframe src=\"http://127.0.0.1:7001/2042124695696/\" width=100% height=800 frameBorder=\"0\"></iframe>"
      ]
     },
     "metadata": {},
     "output_type": "display_data"
    }
   ],
   "source": [
    "# TODO: Check why there is a one in interpret.show(pdp...)\n",
    "exp_key = 0\n",
    "interpret.show(pdp_iml.explain_global(), exp_key)"
   ]
  },
  {
   "cell_type": "markdown",
   "metadata": {},
   "source": [
    "### Morris Sensitivity Analysis "
   ]
  },
  {
   "cell_type": "code",
   "execution_count": 23,
   "metadata": {},
   "outputs": [],
   "source": [
    "# msa_iml = interpret.blackbox.MorrisSensitivity(model, X_train)\n",
    "# msa_global_iml = msa_iml.explain_global()"
   ]
  },
  {
   "cell_type": "code",
   "execution_count": 24,
   "metadata": {},
   "outputs": [],
   "source": [
    "# interpret.show(msa_global_iml, 0)"
   ]
  },
  {
   "cell_type": "markdown",
   "metadata": {},
   "source": [
    "### Dashboard "
   ]
  },
  {
   "cell_type": "code",
   "execution_count": 26,
   "metadata": {},
   "outputs": [
    {
     "data": {
      "text/html": [
       "<!-- http://127.0.0.1:7001/2702961648064/ -->\n",
       "<a href=\"http://127.0.0.1:7001/2702961648064/\" target=\"_new\">Open in new window</a><iframe src=\"http://127.0.0.1:7001/2702961648064/\" width=100% height=800 frameBorder=\"0\"></iframe>"
      ]
     },
     "metadata": {},
     "output_type": "display_data"
    }
   ],
   "source": [
    "interpret.show([exp_local_shap, exp_local_lime, pdp_global_iml])"
   ]
  }
 ],
 "metadata": {
  "kernelspec": {
   "display_name": ".venv",
   "language": "python",
   "name": "python3"
  },
  "language_info": {
   "codemirror_mode": {
    "name": "ipython",
    "version": 3
   },
   "file_extension": ".py",
   "mimetype": "text/x-python",
   "name": "python",
   "nbconvert_exporter": "python",
   "pygments_lexer": "ipython3",
   "version": "3.12.4"
  }
 },
 "nbformat": 4,
 "nbformat_minor": 2
}
